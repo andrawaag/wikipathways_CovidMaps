{
 "cells": [
  {
   "cell_type": "code",
   "execution_count": 32,
   "outputs": [
    {
     "name": "stdout",
     "output_type": "stream",
     "text": [
      "Endoplasmatic Reticulum stress.gpml\n",
      "56214\n",
      "TGFbeta signalling.gpml\n",
      "56209\n",
      "Coagulation pathway.gpml\n",
      "56232\n",
      "Electron Transport Chain disruption.gpml\n",
      "56209\n",
      "Pyrimidine deprivation.gpml\n",
      "56209\n",
      "HMOX1 pathway.gpml\n",
      "56236\n",
      "Virus replication cycle.gpml\n",
      "56231\n",
      "E protein interactions.gpml\n",
      "56210\n",
      "Nsp14 and metabolism.gpml\n",
      "56232\n",
      "NLRP3 inflammasome activation.gpml\n",
      "56214\n",
      "Renin-angiotensin pathway.gpml\n",
      "56231\n",
      "apoptosis.gpml\n",
      "56232\n",
      "PAMP signalling.gpml\n",
      "56210\n",
      "Nsp9 protein interactions.gpml\n",
      "56209\n",
      "JNK pathway.gpml\n",
      "56209\n",
      "mapping.gpml\n",
      "56231\n",
      "SARS-CoV-2 RTC and transcription.gpml\n",
      "56209\n",
      "Orf3a protein interactions.gpml\n",
      "56231\n",
      "Orf10 Cul2 pathway.gpml\n",
      "56232\n",
      "Interferon 1 pathway.gpml\n",
      "56210\n",
      "Nsp4 and Nsp6 protein interactions.gpml\n",
      "56209\n",
      "Kynurenine synthesis pathway.gpml\n",
      "56235\n",
      "Interferon lambda pathway.gpml\n",
      "56237\n"
     ]
    }
   ],
   "source": [
    "import requests\n",
    "import os\n",
    "headers = {\n",
    "    'Content-Type': 'text/plain',\n",
    "}\n",
    "\n",
    "for sbml in os.listdir(\"submaps/\"):\n",
    "    if sbml.endswith(\".xml\"):\n",
    "        print(sbml.replace(\".xml\", \".gpml\"))\n",
    "        with open('submaps/apoptosis.xml', 'rb') as f:\n",
    "            data = f.read()\n",
    "            response = requests.post('https://minerva-service.lcsb.uni.lu/minerva/api/convert/CellDesigner_SBML:GPML', headers=headers, data=data)\n",
    "            with open('gpml/'+sbml.replace(\" \", \"_\").replace(\".xml\", \".gpml\"), 'w') as fo:\n",
    "                print(fo.write(response.text))\n"
   ],
   "metadata": {
    "collapsed": false,
    "pycharm": {
     "name": "#%%\n"
    }
   }
  },
  {
   "cell_type": "code",
   "execution_count": 33,
   "outputs": [],
   "source": [
    "if not os.path.isdir(\"bloem\"):\n",
    "\n",
    "    # if the demo_folder2 directory is\n",
    "    # not present then create it.\n",
    "    os.makedirs(\"bloem\")"
   ],
   "metadata": {
    "collapsed": false,
    "pycharm": {
     "name": "#%%\n"
    }
   }
  }
 ],
 "metadata": {
  "kernelspec": {
   "display_name": "Python 3",
   "language": "python",
   "name": "python3"
  },
  "language_info": {
   "codemirror_mode": {
    "name": "ipython",
    "version": 2
   },
   "file_extension": ".py",
   "mimetype": "text/x-python",
   "name": "python",
   "nbconvert_exporter": "python",
   "pygments_lexer": "ipython2",
   "version": "2.7.6"
  }
 },
 "nbformat": 4,
 "nbformat_minor": 0
}