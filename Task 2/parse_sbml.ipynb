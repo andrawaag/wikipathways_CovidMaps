{
 "cells": [
  {
   "cell_type": "code",
   "execution_count": 2,
   "metadata": {},
   "outputs": [],
   "source": [
    "xslt = dict()"
   ]
  },
  {
   "cell_type": "code",
   "execution_count": 3,
   "metadata": {},
   "outputs": [],
   "source": [
    "from rdflib import Graph, URIRef, Namespace"
   ]
  },
  {
   "cell_type": "code",
   "execution_count": 4,
   "metadata": {},
   "outputs": [],
   "source": [
    "prefixes = \"\"\"\n",
    "PREFIX rdf: <http://www.w3.org/1999/02/22-rdf-syntax-ns#>\n",
    "PREFIX wp: <http://vocabularies.wikipathways.org/wp#>\n",
    "PREFIX cmm: <http://www.example.com/covidmaps/model>\n",
    "PREFIX cmr: <http://www.example.com/covidmaps/reaction>\n",
    "\"\"\""
   ]
  },
  {
   "cell_type": "code",
   "execution_count": 5,
   "metadata": {},
   "outputs": [
    {
     "data": {
      "text/plain": [
       "'\\n'"
      ]
     },
     "execution_count": 5,
     "metadata": {},
     "output_type": "execute_result"
    }
   ],
   "source": [
    "covidmapsSBMLGraph = Graph()\n",
    "covidmapsSBMLGraph.parse(data=prefixes)\n",
    "covidmapsSBMLGraph.serialize(format=\"turtle\")\n"
   ]
  },
  {
   "cell_type": "markdown",
   "metadata": {},
   "source": [
    "# get pathway rdf type triples"
   ]
  },
  {
   "cell_type": "code",
   "execution_count": 6,
   "metadata": {},
   "outputs": [],
   "source": [
    "pathwayXslt = !xml sel -C -N xmlns=\"http://www.sbml.org/sbml/level2/version4\" -T -t -m \"//xmlns:model/@metaid\" -v \"concat('cmm:', ., ' rdf:type wp:Pathway .')\" -n submaps/apoptosis.xml"
   ]
  },
  {
   "cell_type": "code",
   "execution_count": 7,
   "metadata": {},
   "outputs": [],
   "source": [
    "rdf = !xml sel -N xmlns=\"http://www.sbml.org/sbml/level2/version4\" -T -t -m \"//xmlns:model/@metaid\" -v \"concat('cmm:', ., ' rdf:type wp:Pathway .')\" -n submaps/apoptosis.xml"
   ]
  },
  {
   "cell_type": "code",
   "execution_count": 8,
   "metadata": {},
   "outputs": [],
   "source": [
    "xslt[\"pathway\"] = pathwayXslt[0]"
   ]
  },
  {
   "cell_type": "code",
   "execution_count": 123,
   "metadata": {},
   "outputs": [
    {
     "data": {
      "text/plain": [
       "<Graph identifier=Nc15feff438ce460896f22662dec19cdc (<class 'rdflib.graph.Graph'>)>"
      ]
     },
     "execution_count": 123,
     "metadata": {},
     "output_type": "execute_result"
    }
   ],
   "source": [
    "loadrdf = prefixes\n",
    "loadrdf += \"\\n\".join(rdf)\n",
    "covidmapsSBMLGraph.parse(data=loadrdf, format=\"turtle\")"
   ]
  },
  {
   "cell_type": "code",
   "execution_count": 124,
   "metadata": {},
   "outputs": [
    {
     "name": "stdout",
     "output_type": "stream",
     "text": [
      "@prefix cmm: <http://www.example.com/covidmaps/model> .\n",
      "@prefix wp: <http://vocabularies.wikipathways.org/wp#> .\n",
      "\n",
      "cmm:Covid_19_apoptosis_21_04_2020 a wp:Pathway .\n",
      "\n",
      "\n"
     ]
    }
   ],
   "source": [
    "print(covidmapsSBMLGraph.serialize(format=\"turtle\"))\n"
   ]
  },
  {
   "cell_type": "markdown",
   "metadata": {},
   "source": [
    "# Get Relation triples"
   ]
  },
  {
   "cell_type": "code",
   "execution_count": 125,
   "metadata": {},
   "outputs": [],
   "source": [
    "reactionXslt = !xml sel -N xmlns=\"http://www.sbml.org/sbml/level2/version4\" -C -T -t -m \"//xmlns:reaction/@metaid\" -v \"concat('cmr:', ., ' rdf:type wp:Interaction .')\" -n submaps/apoptosis.xml"
   ]
  },
  {
   "cell_type": "code",
   "execution_count": 126,
   "metadata": {},
   "outputs": [
    {
     "name": "stdout",
     "output_type": "stream",
     "text": [
      "<?xml version=\"1.0\"?>\n",
      "<xsl:stylesheet xmlns:xsl=\"http://www.w3.org/1999/XSL/Transform\" xmlns:xmlns=\"http://www.sbml.org/sbml/level2/version4\" xmlns:exslt=\"http://exslt.org/common\" xmlns=\"http://www.sbml.org/sbml/level2/version4\" xmlns:celldesigner=\"http://www.sbml.org/2001/ns/celldesigner\" xmlns:_=\"http://www.sbml.org/sbml/level2/version4\" xmlns:DEFAULT=\"http://www.sbml.org/sbml/level2/version4\" version=\"1.0\" extension-element-prefixes=\"exslt\">\n",
      "  <xsl:output omit-xml-declaration=\"yes\" indent=\"no\" method=\"text\"/>\n",
      "  <xsl:template match=\"/\">\n",
      "    <xsl:for-each select=\"//xmlns:reaction/@metaid\">\n",
      "      <xsl:call-template name=\"value-of-template\">\n",
      "        <xsl:with-param name=\"select\" select=\"concat('cmr:', ., ' rdf:type wp:Interaction .')\"/>\n",
      "      </xsl:call-template>\n",
      "      <xsl:value-of select=\"'&#10;'\"/>\n",
      "    </xsl:for-each>\n",
      "  </xsl:template>\n",
      "  <xsl:template name=\"value-of-template\">\n",
      "    <xsl:param name=\"select\"/>\n",
      "    <xsl:value-of select=\"$select\"/>\n",
      "    <xsl:for-each select=\"exslt:node-set($select)[position()&gt;1]\">\n",
      "      <xsl:value-of select=\"'&#10;'\"/>\n",
      "      <xsl:value-of select=\".\"/>\n",
      "    </xsl:for-each>\n",
      "  </xsl:template>\n",
      "</xsl:stylesheet>\n"
     ]
    }
   ],
   "source": [
    "xslt[\"reaction\"] = \"\\n\".join(reactionXslt)\n",
    "print(xslt[\"reaction\"])"
   ]
  },
  {
   "cell_type": "code",
   "execution_count": 127,
   "metadata": {},
   "outputs": [
    {
     "name": "stdout",
     "output_type": "stream",
     "text": [
      "cmr:re33 rdf:type wp:Interaction .\n",
      "cmr:re8 rdf:type wp:Interaction .\n",
      "cmr:re31 rdf:type wp:Interaction .\n",
      "cmr:re7 rdf:type wp:Interaction .\n",
      "cmr:re16 rdf:type wp:Interaction .\n",
      "cmr:re3 rdf:type wp:Interaction .\n",
      "cmr:re23 rdf:type wp:Interaction .\n",
      "cmr:re35 rdf:type wp:Interaction .\n",
      "cmr:re22 rdf:type wp:Interaction .\n",
      "cmr:re26 rdf:type wp:Interaction .\n",
      "cmr:re10 rdf:type wp:Interaction .\n",
      "cmr:re1 rdf:type wp:Interaction .\n",
      "cmr:re28 rdf:type wp:Interaction .\n",
      "cmr:re29 rdf:type wp:Interaction .\n",
      "cmr:re19 rdf:type wp:Interaction .\n",
      "cmr:re27 rdf:type wp:Interaction .\n",
      "cmr:re32 rdf:type wp:Interaction .\n",
      "cmr:re6 rdf:type wp:Interaction .\n",
      "cmr:re14 rdf:type wp:Interaction .\n",
      "cmr:re34 rdf:type wp:Interaction .\n",
      "cmr:re9 rdf:type wp:Interaction .\n",
      "cmr:re15 rdf:type wp:Interaction .\n",
      "cmr:re30 rdf:type wp:Interaction .\n",
      "cmr:re5 rdf:type wp:Interaction .\n",
      "cmr:re12 rdf:type wp:Interaction .\n",
      "cmr:re38 rdf:type wp:Interaction .\n"
     ]
    },
    {
     "data": {
      "text/plain": [
       "<Graph identifier=Nc15feff438ce460896f22662dec19cdc (<class 'rdflib.graph.Graph'>)>"
      ]
     },
     "execution_count": 127,
     "metadata": {},
     "output_type": "execute_result"
    }
   ],
   "source": [
    "rdf = !xml sel -N xmlns=\"http://www.sbml.org/sbml/level2/version4\" -T -t -m \"//xmlns:reaction/@metaid\" -v \"concat('cmr:', ., ' rdf:type wp:Interaction .')\" -n submaps/apoptosis.xml\n",
    "print(\"\\n\".join(rdf))\n",
    "\n",
    "loadrdf += \"\\n\".join(rdf)\n",
    "covidmapsSBMLGraph.parse(data=loadrdf, format=\"turtle\")"
   ]
  },
  {
   "cell_type": "code",
   "execution_count": 115,
   "metadata": {},
   "outputs": [
    {
     "name": "stdout",
     "output_type": "stream",
     "text": [
      "@prefix cmm: <http://www.example.com/covidmaps/model> .\n",
      "@prefix cmr: <http://www.example.com/covidmaps/reaction> .\n",
      "@prefix wp: <http://vocabularies.wikipathways.org/wp#> .\n",
      "\n",
      "cmm:Covid_19_apoptosis_21_04_2020 a wp:Pathway .\n",
      "\n",
      "cmr:re1 a wp:Interaction .\n",
      "\n",
      "cmr:re10 a wp:Interaction .\n",
      "\n",
      "cmr:re12 a wp:Interaction .\n",
      "\n",
      "cmr:re14 a wp:Interaction .\n",
      "\n",
      "cmr:re15 a wp:Interaction .\n",
      "\n",
      "cmr:re16 a wp:Interaction .\n",
      "\n",
      "cmr:re19 a wp:Interaction .\n",
      "\n",
      "cmr:re22 a wp:Interaction .\n",
      "\n",
      "cmr:re23 a wp:Interaction .\n",
      "\n",
      "cmr:re26 a wp:Interaction .\n",
      "\n",
      "cmr:re27 a wp:Interaction .\n",
      "\n",
      "cmr:re28 a wp:Interaction .\n",
      "\n",
      "cmr:re29 a wp:Interaction .\n",
      "\n",
      "cmr:re3 a wp:Interaction .\n",
      "\n",
      "cmr:re30 a wp:Interaction .\n",
      "\n",
      "cmr:re31 a wp:Interaction .\n",
      "\n",
      "cmr:re32 a wp:Interaction .\n",
      "\n",
      "cmr:re33 a wp:Interaction .\n",
      "\n",
      "cmr:re34 a wp:Interaction .\n",
      "\n",
      "cmr:re35 a wp:Interaction .\n",
      "\n",
      "cmr:re38 a wp:Interaction .\n",
      "\n",
      "cmr:re5 a wp:Interaction .\n",
      "\n",
      "cmr:re6 a wp:Interaction .\n",
      "\n",
      "cmr:re7 a wp:Interaction .\n",
      "\n",
      "cmr:re8 a wp:Interaction .\n",
      "\n",
      "cmr:re9 a wp:Interaction .\n",
      "\n",
      "\n"
     ]
    }
   ],
   "source": [
    "print(covidmapsSBMLGraph.serialize(format=\"turtle\"))"
   ]
  },
  {
   "cell_type": "code",
   "execution_count": 48,
   "metadata": {},
   "outputs": [
    {
     "data": {
      "text/plain": [
       "<Graph identifier=N8e227108d39c4a88b45e0d076cf3e7fd (<class 'rdflib.graph.Graph'>)>"
      ]
     },
     "execution_count": 48,
     "metadata": {},
     "output_type": "execute_result"
    }
   ],
   "source": [
    "covidmapsSBMLGraph.parse(data=loadrdf, format=\"turtle\")"
   ]
  },
  {
   "cell_type": "code",
   "execution_count": 50,
   "metadata": {},
   "outputs": [
    {
     "name": "stdout",
     "output_type": "stream",
     "text": [
      "@prefix cmm: <http://www.example.com/covidmaps/model> .\n",
      "@prefix wp: <http://vocabularies.wikipathways.org> .\n",
      "\n",
      "cmm:Covid_19_apoptosis_21_04_2020 a wp:Pathway .\n",
      "\n",
      "\n"
     ]
    }
   ],
   "source": [
    "print(covidmapsSBMLGraph.serialize(format=\"turtle\"))"
   ]
  },
  {
   "cell_type": "code",
   "execution_count": 11,
   "metadata": {},
   "outputs": [
    {
     "name": "stdout",
     "output_type": "stream",
     "text": [
      "cms:s_id_csa11 rdf:type wp:DataNode .\n",
      "cms:s_id_csa2 rdf:type wp:DataNode .\n",
      "cms:s_id_sa29 rdf:type wp:DataNode .\n",
      "cms:s_id_sa73 rdf:type wp:DataNode .\n",
      "cms:s_id_sa27 rdf:type wp:DataNode .\n",
      "cms:s_id_sa39 rdf:type wp:DataNode .\n",
      "cms:s_id_sa10 rdf:type wp:DataNode .\n",
      "cms:s_id_sa2 rdf:type wp:DataNode .\n",
      "cms:s_id_sa69 rdf:type wp:DataNode .\n",
      "cms:s_id_sa79 rdf:type wp:DataNode .\n",
      "cms:s_id_sa31 rdf:type wp:DataNode .\n",
      "cms:s_id_sa3 rdf:type wp:DataNode .\n",
      "cms:s_id_sa5 rdf:type wp:DataNode .\n",
      "cms:s_id_sa22 rdf:type wp:DataNode .\n",
      "cms:s_id_csa1 rdf:type wp:DataNode .\n",
      "cms:s_id_sa42 rdf:type wp:DataNode .\n",
      "cms:s_id_sa48 rdf:type wp:DataNode .\n",
      "cms:s_id_sa50 rdf:type wp:DataNode .\n",
      "cms:s_id_csa3 rdf:type wp:DataNode .\n",
      "cms:s_id_sa8 rdf:type wp:DataNode .\n",
      "cms:s_id_sa25 rdf:type wp:DataNode .\n",
      "cms:s_id_sa72 rdf:type wp:DataNode .\n",
      "cms:s_id_csa6 rdf:type wp:DataNode .\n",
      "cms:s_id_sa47 rdf:type wp:DataNode .\n",
      "cms:s_id_sa76 rdf:type wp:DataNode .\n",
      "cms:s_id_sa44 rdf:type wp:DataNode .\n",
      "cms:s_id_sa77 rdf:type wp:DataNode .\n",
      "cms:s_id_sa74 rdf:type wp:DataNode .\n",
      "cms:s_id_csa9 rdf:type wp:DataNode .\n",
      "cms:s_id_csa5 rdf:type wp:DataNode .\n",
      "cms:s_id_sa41 rdf:type wp:DataNode .\n",
      "cms:s_id_sa43 rdf:type wp:DataNode .\n",
      "cms:s_id_csa10 rdf:type wp:DataNode .\n",
      "cms:s_id_sa75 rdf:type wp:DataNode .\n",
      "cms:s_id_sa24 rdf:type wp:DataNode .\n",
      "cms:s59 rdf:type wp:DataNode .\n",
      "cms:s_id_sa14 rdf:type wp:DataNode .\n",
      "cms:s60 rdf:type wp:DataNode .\n",
      "cms:s61 rdf:type wp:DataNode .\n",
      "cms:s62 rdf:type wp:DataNode .\n",
      "cms:s63 rdf:type wp:DataNode .\n",
      "cms:s64 rdf:type wp:DataNode .\n",
      "cms:s65 rdf:type wp:DataNode .\n",
      "cms:s66 rdf:type wp:DataNode .\n",
      "cms:s68 rdf:type wp:DataNode .\n",
      "cms:s69 rdf:type wp:DataNode .\n",
      "cms:s_id_sa17 rdf:type wp:DataNode .\n",
      "cms:s67 rdf:type wp:DataNode .\n",
      "cms:s72 rdf:type wp:DataNode .\n"
     ]
    }
   ],
   "source": [
    "rdf = !xml sel -N xmlns=\"http://www.sbml.org/sbml/level2/version4\" -T -t -m \"//xmlns:species/@metaid\" -v \"concat('cms:', ., ' rdf:type wp:Protein .')\" -n submaps/apoptosis.xml\n",
    "\n",
    "print(\"\\n\".join(rdf))\n"
   ]
  },
  {
   "cell_type": "markdown",
   "metadata": {},
   "source": []
  }
 ],
 "metadata": {
  "kernelspec": {
   "display_name": "Python 3",
   "language": "python",
   "name": "python3"
  },
  "language_info": {
   "codemirror_mode": {
    "name": "ipython",
    "version": 3
   },
   "file_extension": ".py",
   "mimetype": "text/x-python",
   "name": "python",
   "nbconvert_exporter": "python",
   "pygments_lexer": "ipython3",
   "version": "3.8.9"
  }
 },
 "nbformat": 4,
 "nbformat_minor": 1
}