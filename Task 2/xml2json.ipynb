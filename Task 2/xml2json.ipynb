{
 "cells": [
  {
   "cell_type": "code",
   "execution_count": 1,
   "outputs": [
    {
     "name": "stdout",
     "output_type": "stream",
     "text": [
      "Collecting xmltodict\r\n",
      "  Downloading xmltodict-0.13.0-py2.py3-none-any.whl (10.0 kB)\r\n",
      "Installing collected packages: xmltodict\r\n",
      "Successfully installed xmltodict-0.13.0\r\n",
      "\u001B[33mWARNING: You are using pip version 21.1.2; however, version 22.1.2 is available.\r\n",
      "You should consider upgrading via the '/Users/andra/projects/taxonname-wpstubmaker/venv/bin/python -m pip install --upgrade pip' command.\u001B[0m\r\n"
     ]
    }
   ],
   "source": [
    "!pip install xmltodict"
   ],
   "metadata": {
    "collapsed": false,
    "pycharm": {
     "name": "#%%\n"
    }
   }
  },
  {
   "cell_type": "code",
   "execution_count": 2,
   "outputs": [],
   "source": [
    "import xmltodict, json\n",
    "import requests"
   ],
   "metadata": {
    "collapsed": false,
    "pycharm": {
     "name": "#%%\n"
    }
   }
  },
  {
   "cell_type": "code",
   "execution_count": null,
   "outputs": [],
   "source": [
    "o = xmltodict.parse('<e> <a>text</a> <a>text</a> </e>')\n",
    "json.dumps(o) # '{\"e\": {\"a\": [\"text\", \"text\"]}}'"
   ],
   "metadata": {
    "collapsed": false,
    "pycharm": {
     "name": "#%%\n"
    }
   }
  }
 ],
 "metadata": {
  "kernelspec": {
   "display_name": "Python 3",
   "language": "python",
   "name": "python3"
  },
  "language_info": {
   "codemirror_mode": {
    "name": "ipython",
    "version": 2
   },
   "file_extension": ".py",
   "mimetype": "text/x-python",
   "name": "python",
   "nbconvert_exporter": "python",
   "pygments_lexer": "ipython2",
   "version": "2.7.6"
  }
 },
 "nbformat": 4,
 "nbformat_minor": 0
}